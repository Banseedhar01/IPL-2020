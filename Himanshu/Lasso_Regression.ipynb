{
  "nbformat": 4,
  "nbformat_minor": 0,
  "metadata": {
    "colab": {
      "name": "Lasso Regression.ipynb",
      "provenance": [],
      "mount_file_id": "1gYjpbr72VSZOEe1NfuDX85Qij4V8ffTV",
      "authorship_tag": "ABX9TyNVMqvReXtLEI9YBJFF4wnl",
      "include_colab_link": true
    },
    "kernelspec": {
      "name": "python3",
      "display_name": "Python 3"
    }
  },
  "cells": [
    {
      "cell_type": "markdown",
      "metadata": {
        "id": "view-in-github",
        "colab_type": "text"
      },
      "source": [
        "<a href=\"https://colab.research.google.com/github/arjunparmar/IPL-2020/blob/master/Himanshu/Lasso_Regression.ipynb\" target=\"_parent\"><img src=\"https://colab.research.google.com/assets/colab-badge.svg\" alt=\"Open In Colab\"/></a>"
      ]
    },
    {
      "cell_type": "code",
      "metadata": {
        "id": "XpQAgz_XtoPI",
        "colab_type": "code",
        "colab": {}
      },
      "source": [
        "import pandas as pd\n",
        "from sklearn.model_selection import train_test_split\n",
        "import numpy as np\n"
      ],
      "execution_count": 1,
      "outputs": []
    },
    {
      "cell_type": "code",
      "metadata": {
        "id": "W1oHB3Kwt8Xy",
        "colab_type": "code",
        "colab": {}
      },
      "source": [
        "data = pd.read_csv(\"/content/drive/My Drive/Colab Notebooks/IPL/train_MLR.csv\")"
      ],
      "execution_count": 2,
      "outputs": []
    },
    {
      "cell_type": "code",
      "metadata": {
        "id": "5YuB77xut_zs",
        "colab_type": "code",
        "colab": {}
      },
      "source": [
        "features = [\"LotFrontage\", \"LotArea\", \"OverallQual\", \"OverallCond\"]"
      ],
      "execution_count": 3,
      "outputs": []
    },
    {
      "cell_type": "code",
      "metadata": {
        "id": "gC-ul5gquDg0",
        "colab_type": "code",
        "colab": {
          "base_uri": "https://localhost:8080/",
          "height": 51
        },
        "outputId": "8d23d0da-2398-4aa0-93e7-7ff775b3f0da"
      },
      "source": [
        "X = data[features]\n",
        "y = data[\"SalePrice\"]\n",
        "print(X.shape)\n",
        "print(y.shape)"
      ],
      "execution_count": 4,
      "outputs": [
        {
          "output_type": "stream",
          "text": [
            "(1460, 4)\n",
            "(1460,)\n"
          ],
          "name": "stdout"
        }
      ]
    },
    {
      "cell_type": "code",
      "metadata": {
        "id": "7H1mLjhfuHRZ",
        "colab_type": "code",
        "colab": {
          "base_uri": "https://localhost:8080/",
          "height": 85
        },
        "outputId": "d4ab746d-ea5c-4cf5-c4a6-c1be0d7193f3"
      },
      "source": [
        "train_x, test_x, train_y, test_y = train_test_split(X, y, test_size=0.25)\n",
        "train_x = train_x.dropna(axis=1)\n",
        "test_x = test_x.dropna(axis=1)\n",
        "print(train_x.shape)\n",
        "print(train_y.shape)\n",
        "print(test_x.shape)\n",
        "print(test_y.shape)\n",
        "#train_x.shape\n",
        "train_y = train_y.values.reshape((1095, 1))\n",
        "test_y = test_y.values.reshape((365, 1))"
      ],
      "execution_count": 5,
      "outputs": [
        {
          "output_type": "stream",
          "text": [
            "(1095, 3)\n",
            "(1095,)\n",
            "(365, 3)\n",
            "(365,)\n"
          ],
          "name": "stdout"
        }
      ]
    },
    {
      "cell_type": "code",
      "metadata": {
        "id": "ulqMhsM-uKdw",
        "colab_type": "code",
        "colab": {}
      },
      "source": [
        "from sklearn.linear_model import Lasso"
      ],
      "execution_count": 6,
      "outputs": []
    },
    {
      "cell_type": "code",
      "metadata": {
        "id": "0cOoglu3uWO0",
        "colab_type": "code",
        "colab": {}
      },
      "source": [
        "lass = Lasso()"
      ],
      "execution_count": 7,
      "outputs": []
    },
    {
      "cell_type": "code",
      "metadata": {
        "id": "RJ-OcAmVudx8",
        "colab_type": "code",
        "colab": {
          "base_uri": "https://localhost:8080/",
          "height": 68
        },
        "outputId": "2dbf1589-3516-4232-8f5f-a50878393133"
      },
      "source": [
        "lass.fit(train_x, train_y)"
      ],
      "execution_count": 8,
      "outputs": [
        {
          "output_type": "execute_result",
          "data": {
            "text/plain": [
              "Lasso(alpha=1.0, copy_X=True, fit_intercept=True, max_iter=1000,\n",
              "      normalize=False, positive=False, precompute=False, random_state=None,\n",
              "      selection='cyclic', tol=0.0001, warm_start=False)"
            ]
          },
          "metadata": {
            "tags": []
          },
          "execution_count": 8
        }
      ]
    },
    {
      "cell_type": "code",
      "metadata": {
        "id": "kWxYXZ5Kui5U",
        "colab_type": "code",
        "colab": {}
      },
      "source": [
        "lass_trainScore = lass.score(train_x, train_y)\n",
        "lass_testScore = lass.score(test_x, test_y)"
      ],
      "execution_count": 9,
      "outputs": []
    },
    {
      "cell_type": "code",
      "metadata": {
        "id": "yJSoDBfkuyYM",
        "colab_type": "code",
        "colab": {
          "base_uri": "https://localhost:8080/",
          "height": 34
        },
        "outputId": "2bcbdeb0-4635-463f-ba76-98b9a00d9c5e"
      },
      "source": [
        "print(\"value of Train Score: {} and Test Score: {}\".format(lass_trainScore, lass_testScore))"
      ],
      "execution_count": 10,
      "outputs": [
        {
          "output_type": "stream",
          "text": [
            "value of Train Score: 0.6475006672471197 and Test Score: 0.6992967171517461\n"
          ],
          "name": "stdout"
        }
      ]
    },
    {
      "cell_type": "code",
      "metadata": {
        "id": "E4ISH1g7u_b0",
        "colab_type": "code",
        "colab": {
          "base_uri": "https://localhost:8080/",
          "height": 68
        },
        "outputId": "2a496ab1-d147-4b70-c481-9038f0c6c58d"
      },
      "source": [
        "lass001 = Lasso(alpha=0.01, max_iter=10e5)\n",
        "lass001.fit(train_x, train_y)"
      ],
      "execution_count": 16,
      "outputs": [
        {
          "output_type": "execute_result",
          "data": {
            "text/plain": [
              "Lasso(alpha=0.01, copy_X=True, fit_intercept=True, max_iter=1000000.0,\n",
              "      normalize=False, positive=False, precompute=False, random_state=None,\n",
              "      selection='cyclic', tol=0.0001, warm_start=False)"
            ]
          },
          "metadata": {
            "tags": []
          },
          "execution_count": 16
        }
      ]
    },
    {
      "cell_type": "code",
      "metadata": {
        "id": "4R4vpYHrvQ9Y",
        "colab_type": "code",
        "colab": {}
      },
      "source": [
        "lass001_trainScore = lass001.score(train_x, train_y)\n",
        "lass001_testScore = lass001.score(test_x,  test_y)"
      ],
      "execution_count": 17,
      "outputs": []
    },
    {
      "cell_type": "code",
      "metadata": {
        "id": "aHuOpHsIvebE",
        "colab_type": "code",
        "colab": {
          "base_uri": "https://localhost:8080/",
          "height": 34
        },
        "outputId": "4c8e6559-b09a-4b56-ddbf-196d469e4920"
      },
      "source": [
        "print(\"value of Train Score: {} and Test Score: {}\".format(lass001_trainScore, lass001_testScore))"
      ],
      "execution_count": 18,
      "outputs": [
        {
          "output_type": "stream",
          "text": [
            "value of Train Score: 0.6475006674308692 and Test Score: 0.6992943935009457\n"
          ],
          "name": "stdout"
        }
      ]
    },
    {
      "cell_type": "code",
      "metadata": {
        "id": "d5rkkpqfvghL",
        "colab_type": "code",
        "colab": {}
      },
      "source": [
        ""
      ],
      "execution_count": null,
      "outputs": []
    }
  ]
}