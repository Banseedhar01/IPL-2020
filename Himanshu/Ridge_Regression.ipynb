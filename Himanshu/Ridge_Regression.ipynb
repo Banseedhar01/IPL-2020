{
  "nbformat": 4,
  "nbformat_minor": 0,
  "metadata": {
    "colab": {
      "name": "Ridge-Regression.ipynb",
      "provenance": [],
      "mount_file_id": "1bm5O36aOBmpKfVW8Mq0O9Mim8KIJWHyA",
      "authorship_tag": "ABX9TyM4Lv+RqI7AHuJtDsimgV1Y",
      "include_colab_link": true
    },
    "kernelspec": {
      "name": "python3",
      "display_name": "Python 3"
    }
  },
  "cells": [
    {
      "cell_type": "markdown",
      "metadata": {
        "id": "view-in-github",
        "colab_type": "text"
      },
      "source": [
        "<a href=\"https://colab.research.google.com/github/arjunparmar/IPL-2020/blob/master/Himanshu/Ridge_Regression.ipynb\" target=\"_parent\"><img src=\"https://colab.research.google.com/assets/colab-badge.svg\" alt=\"Open In Colab\"/></a>"
      ]
    },
    {
      "cell_type": "code",
      "metadata": {
        "id": "f3x6Yj1MceOz",
        "colab_type": "code",
        "colab": {}
      },
      "source": [
        "import pandas as pd\n",
        "from sklearn.model_selection import train_test_split\n",
        "import numpy as np\n"
      ],
      "execution_count": 52,
      "outputs": []
    },
    {
      "cell_type": "code",
      "metadata": {
        "id": "Ik15PSFMe5ac",
        "colab_type": "code",
        "colab": {}
      },
      "source": [
        "!cd drive\\"
      ],
      "execution_count": 12,
      "outputs": []
    },
    {
      "cell_type": "code",
      "metadata": {
        "id": "BJ8J2VDCf915",
        "colab_type": "code",
        "colab": {
          "base_uri": "https://localhost:8080/",
          "height": 68
        },
        "outputId": "c4ba87b6-b2fd-44ca-8ef1-04653a8bf98d"
      },
      "source": [
        "!ls \"/content/drive/My Drive\""
      ],
      "execution_count": 1,
      "outputs": [
        {
          "output_type": "stream",
          "text": [
            " Classroom\t       'IDS Lab Assignment 2.gdoc'   U19EE064.zip\n",
            "'Colab Notebooks'      'U19EE064 (1).zip'\n",
            "'Getting started.pdf'   U19EE064_MathsTut1Sem3.pdf\n"
          ],
          "name": "stdout"
        }
      ]
    },
    {
      "cell_type": "code",
      "metadata": {
        "id": "o-kN_pxKgEF-",
        "colab_type": "code",
        "colab": {}
      },
      "source": [
        "data = pd.read_csv(\"/content/drive/My Drive/Colab Notebooks/IPL/train_MLR.csv\")"
      ],
      "execution_count": 3,
      "outputs": []
    },
    {
      "cell_type": "code",
      "metadata": {
        "id": "G5Ao8wvvh8x0",
        "colab_type": "code",
        "colab": {
          "base_uri": "https://localhost:8080/",
          "height": 34
        },
        "outputId": "b99e0a90-3b5e-43b8-edb9-f74cda28e8f6"
      },
      "source": [
        "data.shape"
      ],
      "execution_count": 7,
      "outputs": [
        {
          "output_type": "execute_result",
          "data": {
            "text/plain": [
              "(1460, 81)"
            ]
          },
          "metadata": {
            "tags": []
          },
          "execution_count": 7
        }
      ]
    },
    {
      "cell_type": "code",
      "metadata": {
        "id": "Fc1fSutriF3r",
        "colab_type": "code",
        "colab": {
          "base_uri": "https://localhost:8080/",
          "height": 221
        },
        "outputId": "b32c94dc-11c4-44fd-b25b-ce42e710d0b0"
      },
      "source": [
        "data[\"EnclosedPorch\"]"
      ],
      "execution_count": 27,
      "outputs": [
        {
          "output_type": "execute_result",
          "data": {
            "text/plain": [
              "0         0\n",
              "1         0\n",
              "2         0\n",
              "3       272\n",
              "4         0\n",
              "       ... \n",
              "1455      0\n",
              "1456      0\n",
              "1457      0\n",
              "1458    112\n",
              "1459      0\n",
              "Name: EnclosedPorch, Length: 1460, dtype: int64"
            ]
          },
          "metadata": {
            "tags": []
          },
          "execution_count": 27
        }
      ]
    },
    {
      "cell_type": "code",
      "metadata": {
        "id": "PAiyk3uNjsto",
        "colab_type": "code",
        "colab": {}
      },
      "source": [
        "features = [\"LotFrontage\", \"LotArea\", \"OverallQual\", \"OverallCond\"]"
      ],
      "execution_count": 46,
      "outputs": []
    },
    {
      "cell_type": "code",
      "metadata": {
        "id": "BFvMW3ACl4gy",
        "colab_type": "code",
        "colab": {
          "base_uri": "https://localhost:8080/",
          "height": 51
        },
        "outputId": "3a1a610c-d352-4452-d98e-0128d9fb2e2f"
      },
      "source": [
        "X = data[features]\n",
        "y = data[\"SalePrice\"]\n",
        "print(X.shape)\n",
        "print(y.shape)"
      ],
      "execution_count": 59,
      "outputs": [
        {
          "output_type": "stream",
          "text": [
            "(1460, 4)\n",
            "(1460,)\n"
          ],
          "name": "stdout"
        }
      ]
    },
    {
      "cell_type": "code",
      "metadata": {
        "id": "00uNMdYzmXFp",
        "colab_type": "code",
        "colab": {
          "base_uri": "https://localhost:8080/",
          "height": 85
        },
        "outputId": "b96d9b65-566e-4bfb-8f8c-5e43caf69062"
      },
      "source": [
        "train_x, test_x, train_y, test_y = train_test_split(X, y, test_size=0.25)\n",
        "train_x = train_x.dropna(axis=1)\n",
        "test_x = test_x.dropna(axis=1)\n",
        "print(train_x.shape)\n",
        "print(train_y.shape)\n",
        "print(test_x.shape)\n",
        "print(test_y.shape)\n",
        "#train_x.shape\n",
        "train_y = train_y.values.reshape((1095, 1))\n",
        "test_y = test_y.values.reshape((365, 1))"
      ],
      "execution_count": 71,
      "outputs": [
        {
          "output_type": "stream",
          "text": [
            "(1095, 3)\n",
            "(1095,)\n",
            "(365, 3)\n",
            "(365,)\n"
          ],
          "name": "stdout"
        }
      ]
    },
    {
      "cell_type": "code",
      "metadata": {
        "id": "9KmMndBnmrPR",
        "colab_type": "code",
        "colab": {}
      },
      "source": [
        "from sklearn.linear_model import Ridge"
      ],
      "execution_count": 63,
      "outputs": []
    },
    {
      "cell_type": "code",
      "metadata": {
        "id": "-UQK28_WnJSa",
        "colab_type": "code",
        "colab": {}
      },
      "source": [
        "r_001 = Ridge(alpha=0.01)\n",
        "r_100 = Ridge(alpha=100)"
      ],
      "execution_count": 49,
      "outputs": []
    },
    {
      "cell_type": "code",
      "metadata": {
        "id": "7RmBxsJgncqv",
        "colab_type": "code",
        "colab": {
          "base_uri": "https://localhost:8080/",
          "height": 51
        },
        "outputId": "d8e8147d-7b9a-4493-a65b-50b637708721"
      },
      "source": [
        "r_001.fit(train_x, train_y)\n",
        "r_100.fit(train_x, train_y)"
      ],
      "execution_count": 72,
      "outputs": [
        {
          "output_type": "execute_result",
          "data": {
            "text/plain": [
              "Ridge(alpha=100, copy_X=True, fit_intercept=True, max_iter=None,\n",
              "      normalize=False, random_state=None, solver='auto', tol=0.001)"
            ]
          },
          "metadata": {
            "tags": []
          },
          "execution_count": 72
        }
      ]
    },
    {
      "cell_type": "code",
      "metadata": {
        "id": "tqh-SE7UnlGm",
        "colab_type": "code",
        "colab": {}
      },
      "source": [
        "train_score001 = r_001.score(train_x, train_y)\n",
        "train_score100 = r_100.score(train_x, train_y)\n",
        "test_score001 = r_001.score(test_x, test_y)\n",
        "test_score100 = r_100.score(test_x, test_y)"
      ],
      "execution_count": 75,
      "outputs": []
    },
    {
      "cell_type": "code",
      "metadata": {
        "id": "VRX2or8Ar6_I",
        "colab_type": "code",
        "colab": {
          "base_uri": "https://localhost:8080/",
          "height": 51
        },
        "outputId": "5a4e8532-ce79-4d3e-b20d-b958061bca7b"
      },
      "source": [
        "print(\"Value of score of ridge with alpha 0.01 has train score: {} and test score: {}\".format(train_score001, test_score001))\n",
        "print(\"Value of score of ridge with alpha 100 has train score: {} and test score: {}\".format(train_score100, test_score100))"
      ],
      "execution_count": 76,
      "outputs": [
        {
          "output_type": "stream",
          "text": [
            "Value of score of ridge with alpha 0.01 has train score: 0.6404135516099481 and test score: 0.7198752079627423\n",
            "Value of score of ridge with alpha 100 has train score: 0.6391871432444352 and test score: 0.7206235500228736\n"
          ],
          "name": "stdout"
        }
      ]
    },
    {
      "cell_type": "code",
      "metadata": {
        "id": "_Qk67PHbssh6",
        "colab_type": "code",
        "colab": {}
      },
      "source": [
        ""
      ],
      "execution_count": null,
      "outputs": []
    }
  ]
}