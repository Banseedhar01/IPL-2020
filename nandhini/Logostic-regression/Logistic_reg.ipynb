{
 "cells": [
  {
   "cell_type": "code",
   "execution_count": 1,
   "metadata": {},
   "outputs": [],
   "source": [
    "\n",
    "import numpy as np\n",
    "import pandas as pd\n",
    "import matplotlib.pyplot as plt\n",
    "from sklearn.model_selection import train_test_split"
   ]
  },
  {
   "cell_type": "code",
   "execution_count": 5,
   "metadata": {},
   "outputs": [
    {
     "name": "stdout",
     "output_type": "stream",
     "text": [
      "<class 'pandas.core.frame.DataFrame'>\n",
      "RangeIndex: 400 entries, 0 to 399\n",
      "Data columns (total 5 columns):\n",
      " #   Column           Non-Null Count  Dtype \n",
      "---  ------           --------------  ----- \n",
      " 0   User ID          400 non-null    int64 \n",
      " 1   Gender           400 non-null    object\n",
      " 2   Age              400 non-null    int64 \n",
      " 3   EstimatedSalary  400 non-null    int64 \n",
      " 4   Purchased        400 non-null    int64 \n",
      "dtypes: int64(4), object(1)\n",
      "memory usage: 15.8+ KB\n"
     ]
    },
    {
     "data": {
      "text/plain": [
       "User ID            0\n",
       "Gender             0\n",
       "Age                0\n",
       "EstimatedSalary    0\n",
       "Purchased          0\n",
       "dtype: int64"
      ]
     },
     "execution_count": 5,
     "metadata": {},
     "output_type": "execute_result"
    }
   ],
   "source": [
    "df = pd.read_csv(r'C:\\Users\\Nandhini\\Documents\\Social_Network_Ads.csv')\n",
    "df.head()\n",
    "df.info()\n",
    "df.isnull().sum()"
   ]
  },
  {
   "cell_type": "code",
   "execution_count": 6,
   "metadata": {},
   "outputs": [
    {
     "data": {
      "image/png": "[encoded data removed]",
      "text/plain": [
       "<Figure size 432x288 with 1 Axes>"
      ]
     },
     "metadata": {
      "needs_background": "light"
     },
     "output_type": "display_data"
    }
   ],
   "source": [
    "plt.scatter(df.Age,df.Purchased,marker=\"+\",color=\"green\")\n",
    "\n",
    "x = df[['Age']].values\n",
    "y = df['Purchased'].values"
   ]
  },
  {
   "cell_type": "code",
   "execution_count": 8,
   "metadata": {},
   "outputs": [
    {
     "data": {
      "text/plain": [
       "LogisticRegression()"
      ]
     },
     "execution_count": 8,
     "metadata": {},
     "output_type": "execute_result"
    }
   ],
   "source": [
    "from sklearn.model_selection import train_test_split \n",
    "x_train, x_test, y_train, y_test = train_test_split(x, y, test_size=0.2, random_state=0)\n",
    "from sklearn.linear_model import LogisticRegression\n",
    "model=LogisticRegression()\n",
    "model.fit(x_train,y_train)"
   ]
  },
  {
   "cell_type": "code",
   "execution_count": 11,
   "metadata": {},
   "outputs": [
    {
     "data": {
      "text/plain": [
       "array([0, 0, 0, 0, 0, 0, 0, 0, 0, 1, 0, 0, 0, 0, 0, 0, 0, 0, 1, 0, 0, 1,\n",
       "       0, 1, 0, 1, 0, 0, 0, 0, 0, 0, 1, 0, 0, 0, 0, 0, 0, 1, 0, 0, 0, 0,\n",
       "       1, 0, 0, 1, 0, 1, 1, 0, 0, 0, 1, 1, 0, 0, 1, 0, 0, 1, 0, 0, 0, 1,\n",
       "       0, 0, 0, 0, 0, 0, 0, 1, 0, 0, 0, 0, 1, 1], dtype=int64)"
      ]
     },
     "execution_count": 11,
     "metadata": {},
     "output_type": "execute_result"
    }
   ],
   "source": [
    "y_pred = model.predict(x_test)\n",
    "y_pred"
   ]
  },
  {
   "cell_type": "code",
   "execution_count": 12,
   "metadata": {},
   "outputs": [
    {
     "data": {
      "text/plain": [
       "0.9375"
      ]
     },
     "execution_count": 12,
     "metadata": {},
     "output_type": "execute_result"
    }
   ],
   "source": [
    "model.score(x_test,y_test)"
   ]
  },
  {
   "cell_type": "code",
   "execution_count": 13,
   "metadata": {},
   "outputs": [
    {
     "data": {
      "text/plain": [
       "array([[0.89588762, 0.10411238],\n",
       "       [0.68568636, 0.31431364],\n",
       "       [0.78493273, 0.21506727],\n",
       "       [0.89588762, 0.10411238],\n",
       "       [0.78493273, 0.21506727],\n",
       "       [0.93504878, 0.06495122],\n",
       "       [0.87876691, 0.12123309],\n",
       "       [0.75456472, 0.24543528],\n",
       "       [0.98538259, 0.01461741],\n",
       "       [0.31781629, 0.68218371],\n",
       "       [0.89588762, 0.10411238],\n",
       "       [0.92382032, 0.07617968],\n",
       "       [0.72143048, 0.27856952],\n",
       "       [0.64759618, 0.35240382],\n",
       "       [0.97952249, 0.02047751],\n",
       "       [0.85927305, 0.14072695],\n",
       "       [0.72143048, 0.27856952],\n",
       "       [0.98269456, 0.01730544],\n",
       "       [0.10563346, 0.89436654],\n",
       "       [0.78493273, 0.21506727],\n",
       "       [0.78493273, 0.21506727],\n",
       "       [0.31781629, 0.68218371],\n",
       "       [0.56596593, 0.43403407],\n",
       "       [0.31781629, 0.68218371],\n",
       "       [0.96620685, 0.03379315],\n",
       "       [0.24844848, 0.75155152],\n",
       "       [0.92382032, 0.07617968],\n",
       "       [0.91083583, 0.08916417],\n",
       "       [0.72143048, 0.27856952],\n",
       "       [0.85927305, 0.14072695],\n",
       "       [0.97578331, 0.02421669],\n",
       "       [0.72143048, 0.27856952],\n",
       "       [0.07732788, 0.92267212],\n",
       "       [0.72143048, 0.27856952],\n",
       "       [0.9601352 , 0.0398648 ],\n",
       "       [0.98538259, 0.01461741],\n",
       "       [0.97138131, 0.02861869],\n",
       "       [0.81247706, 0.18752294],\n",
       "       [0.87876691, 0.12123309],\n",
       "       [0.24844848, 0.75155152],\n",
       "       [0.93504878, 0.06495122],\n",
       "       [0.56596593, 0.43403407],\n",
       "       [0.93504878, 0.06495122],\n",
       "       [0.78493273, 0.21506727],\n",
       "       [0.48059277, 0.51940723],\n",
       "       [0.93504878, 0.06495122],\n",
       "       [0.72143048, 0.27856952],\n",
       "       [0.16499502, 0.83500498],\n",
       "       [0.94472126, 0.05527874],\n",
       "       [0.24844848, 0.75155152],\n",
       "       [0.07732788, 0.92267212],\n",
       "       [0.81247706, 0.18752294],\n",
       "       [0.78493273, 0.21506727],\n",
       "       [0.81247706, 0.18752294],\n",
       "       [0.05613106, 0.94386894],\n",
       "       [0.39633808, 0.60366192],\n",
       "       [0.91083583, 0.08916417],\n",
       "       [0.94472126, 0.05527874],\n",
       "       [0.24844848, 0.75155152],\n",
       "       [0.96620685, 0.03379315],\n",
       "       [0.85927305, 0.14072695],\n",
       "       [0.04770505, 0.95229495],\n",
       "       [0.98269456, 0.01730544],\n",
       "       [0.75456472, 0.24543528],\n",
       "       [0.98269456, 0.01730544],\n",
       "       [0.04770505, 0.95229495],\n",
       "       [0.9601352 , 0.0398648 ],\n",
       "       [0.93504878, 0.06495122],\n",
       "       [0.60753209, 0.39246791],\n",
       "       [0.52345064, 0.47654936],\n",
       "       [0.85927305, 0.14072695],\n",
       "       [0.78493273, 0.21506727],\n",
       "       [0.97138131, 0.02861869],\n",
       "       [0.39633808, 0.60366192],\n",
       "       [0.93504878, 0.06495122],\n",
       "       [0.98538259, 0.01461741],\n",
       "       [0.52345064, 0.47654936],\n",
       "       [0.60753209, 0.39246791],\n",
       "       [0.14269775, 0.85730225],\n",
       "       [0.31781629, 0.68218371]])"
      ]
     },
     "execution_count": 13,
     "metadata": {},
     "output_type": "execute_result"
    }
   ],
   "source": [
    "model.predict_proba(x_test)"
   ]
  },
  {
   "cell_type": "code",
   "execution_count": null,
   "metadata": {},
   "outputs": [],
   "source": []
  }
 ],
 "metadata": {
  "kernelspec": {
   "display_name": "Python 3",
   "language": "python",
   "name": "python3"
  },
  "language_info": {
   "codemirror_mode": {
    "name": "ipython",
    "version": 3
   },
   "file_extension": ".py",
   "mimetype": "text/x-python",
   "name": "python",
   "nbconvert_exporter": "python",
   "pygments_lexer": "ipython3",
   "version": "3.8.3"
  }
 },
 "nbformat": 4,
 "nbformat_minor": 4
}
