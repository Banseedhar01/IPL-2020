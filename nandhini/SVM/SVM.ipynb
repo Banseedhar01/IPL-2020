{
 "cells": [
  {
   "cell_type": "code",
   "execution_count": 1,
   "metadata": {},
   "outputs": [],
   "source": [
    "import pandas\n",
    "import matplotlib.pyplot as plt\n",
    "from pandas.plotting import scatter_matrix\n",
    "from sklearn import model_selection\n",
    "from sklearn.metrics import classification_report\n",
    "from sklearn.metrics import confusion_matrix\n",
    "from sklearn.metrics import accuracy_score\n",
    "from sklearn.linear_model import LogisticRegression\n",
    "from sklearn.svm import SVC"
   ]
  },
  {
   "cell_type": "code",
   "execution_count": 4,
   "metadata": {},
   "outputs": [],
   "source": [
    "url = r\"file:///C:\\Users\\Nandhini\\OneDrive\\Documents\\pkgs\\bokeh-2.1.1-py38_0\\Lib\\site-packages\\bokeh\\sampledata\\_data\\iris.csv\"\n",
    "names = ['sepal-length','sepal-width','petal-length','petal-width','class']\n",
    "dataset=pandas.read_csv(url,names=names)"
   ]
  },
  {
   "cell_type": "code",
   "execution_count": 5,
   "metadata": {},
   "outputs": [
    {
     "name": "stdout",
     "output_type": "stream",
     "text": [
      "(151, 5)\n",
      "    sepal-length  sepal-width  petal-length  petal-width    class\n",
      "0   sepal_length  sepal_width  petal_length  petal_width  species\n",
      "1            5.1          3.5           1.4          0.2   setosa\n",
      "2            4.9          3.0           1.4          0.2   setosa\n",
      "3            4.7          3.2           1.3          0.2   setosa\n",
      "4            4.6          3.1           1.5          0.2   setosa\n",
      "5            5.0          3.6           1.4          0.2   setosa\n",
      "6            5.4          3.9           1.7          0.4   setosa\n",
      "7            4.6          3.4           1.4          0.3   setosa\n",
      "8            5.0          3.4           1.5          0.2   setosa\n",
      "9            4.4          2.9           1.4          0.2   setosa\n",
      "10           4.9          3.1           1.5          0.1   setosa\n",
      "11           5.4          3.7           1.5          0.2   setosa\n",
      "12           4.8          3.4           1.6          0.2   setosa\n",
      "13           4.8          3.0           1.4          0.1   setosa\n",
      "14           4.3          3.0           1.1          0.1   setosa\n",
      "15           5.8          4.0           1.2          0.2   setosa\n",
      "16           5.7          4.4           1.5          0.4   setosa\n",
      "17           5.4          3.9           1.3          0.4   setosa\n",
      "18           5.1          3.5           1.4          0.3   setosa\n",
      "19           5.7          3.8           1.7          0.3   setosa\n",
      "20           5.1          3.8           1.5          0.3   setosa\n",
      "21           5.4          3.4           1.7          0.2   setosa\n",
      "22           5.1          3.7           1.5          0.4   setosa\n",
      "23           4.6          3.6           1.0          0.2   setosa\n",
      "24           5.1          3.3           1.7          0.5   setosa\n",
      "25           4.8          3.4           1.9          0.2   setosa\n",
      "26           5.0          3.0           1.6          0.2   setosa\n",
      "27           5.0          3.4           1.6          0.4   setosa\n",
      "28           5.2          3.5           1.5          0.2   setosa\n",
      "29           5.2          3.4           1.4          0.2   setosa\n"
     ]
    }
   ],
   "source": [
    "print(dataset.shape)\n",
    "print(dataset.head(30))"
   ]
  },
  {
   "cell_type": "code",
   "execution_count": 6,
   "metadata": {},
   "outputs": [
    {
     "name": "stdout",
     "output_type": "stream",
     "text": [
      "       sepal-length sepal-width petal-length petal-width       class\n",
      "count           151         151          151         151         151\n",
      "unique           36          24           44          23           4\n",
      "top             5.0         3.0          1.5         0.2  versicolor\n",
      "freq             10          26           13          29          50\n",
      "class\n",
      "setosa        50\n",
      "species        1\n",
      "versicolor    50\n",
      "virginica     50\n",
      "dtype: int64\n"
     ]
    }
   ],
   "source": [
    "print(dataset.describe())\n",
    "print(dataset.groupby('class').size())"
   ]
  },
  {
   "cell_type": "code",
   "execution_count": 9,
   "metadata": {},
   "outputs": [],
   "source": [
    "array = dataset.values\n",
    "X = array[:,0:4]\n",
    "Y = array[:,4]\n",
    "validation_size=0.20\n",
    "seed = 6 ###seed helps in keeping the same randomness in both train and test###\n",
    "X_train,X_test,Y_train,Y_test = model_selection.train_test_split(X,Y,test_size=validation_size,random_state=seed)"
   ]
  },
  {
   "cell_type": "code",
   "execution_count": 10,
   "metadata": {},
   "outputs": [
    {
     "name": "stderr",
     "output_type": "stream",
     "text": [
      "C:\\Users\\Nandhini\\OneDrive\\Documents\\lib\\site-packages\\sklearn\\model_selection\\_split.py:293: FutureWarning: Setting a random_state has no effect since shuffle is False. This will raise an error in 0.24. You should leave random_state to its default (None), or set shuffle=True.\n",
      "  warnings.warn(\n",
      "C:\\Users\\Nandhini\\OneDrive\\Documents\\lib\\site-packages\\sklearn\\linear_model\\_logistic.py:762: ConvergenceWarning: lbfgs failed to converge (status=1):\n",
      "STOP: TOTAL NO. of ITERATIONS REACHED LIMIT.\n",
      "\n",
      "Increase the number of iterations (max_iter) or scale the data as shown in:\n",
      "    https://scikit-learn.org/stable/modules/preprocessing.html\n",
      "Please also refer to the documentation for alternative solver options:\n",
      "    https://scikit-learn.org/stable/modules/linear_model.html#logistic-regression\n",
      "  n_iter_i = _check_optimize_result(\n",
      "C:\\Users\\Nandhini\\OneDrive\\Documents\\lib\\site-packages\\sklearn\\linear_model\\_logistic.py:762: ConvergenceWarning: lbfgs failed to converge (status=1):\n",
      "STOP: TOTAL NO. of ITERATIONS REACHED LIMIT.\n",
      "\n",
      "Increase the number of iterations (max_iter) or scale the data as shown in:\n",
      "    https://scikit-learn.org/stable/modules/preprocessing.html\n",
      "Please also refer to the documentation for alternative solver options:\n",
      "    https://scikit-learn.org/stable/modules/linear_model.html#logistic-regression\n",
      "  n_iter_i = _check_optimize_result(\n",
      "C:\\Users\\Nandhini\\OneDrive\\Documents\\lib\\site-packages\\sklearn\\linear_model\\_logistic.py:762: ConvergenceWarning: lbfgs failed to converge (status=1):\n",
      "STOP: TOTAL NO. of ITERATIONS REACHED LIMIT.\n",
      "\n",
      "Increase the number of iterations (max_iter) or scale the data as shown in:\n",
      "    https://scikit-learn.org/stable/modules/preprocessing.html\n",
      "Please also refer to the documentation for alternative solver options:\n",
      "    https://scikit-learn.org/stable/modules/linear_model.html#logistic-regression\n",
      "  n_iter_i = _check_optimize_result(\n",
      "C:\\Users\\Nandhini\\OneDrive\\Documents\\lib\\site-packages\\sklearn\\linear_model\\_logistic.py:762: ConvergenceWarning: lbfgs failed to converge (status=1):\n",
      "STOP: TOTAL NO. of ITERATIONS REACHED LIMIT.\n",
      "\n",
      "Increase the number of iterations (max_iter) or scale the data as shown in:\n",
      "    https://scikit-learn.org/stable/modules/preprocessing.html\n",
      "Please also refer to the documentation for alternative solver options:\n",
      "    https://scikit-learn.org/stable/modules/linear_model.html#logistic-regression\n",
      "  n_iter_i = _check_optimize_result(\n",
      "C:\\Users\\Nandhini\\OneDrive\\Documents\\lib\\site-packages\\sklearn\\linear_model\\_logistic.py:762: ConvergenceWarning: lbfgs failed to converge (status=1):\n",
      "STOP: TOTAL NO. of ITERATIONS REACHED LIMIT.\n",
      "\n",
      "Increase the number of iterations (max_iter) or scale the data as shown in:\n",
      "    https://scikit-learn.org/stable/modules/preprocessing.html\n",
      "Please also refer to the documentation for alternative solver options:\n",
      "    https://scikit-learn.org/stable/modules/linear_model.html#logistic-regression\n",
      "  n_iter_i = _check_optimize_result(\n",
      "C:\\Users\\Nandhini\\OneDrive\\Documents\\lib\\site-packages\\sklearn\\model_selection\\_split.py:293: FutureWarning: Setting a random_state has no effect since shuffle is False. This will raise an error in 0.24. You should leave random_state to its default (None), or set shuffle=True.\n",
      "  warnings.warn(\n"
     ]
    },
    {
     "name": "stdout",
     "output_type": "stream",
     "text": [
      "LR: 0.958333 (0.055902)\n",
      "SVM: 0.966667 (0.055277)\n"
     ]
    }
   ],
   "source": [
    "seed= 6\n",
    "scoring='accuracy'\n",
    "\n",
    "scoring='accuracy'\n",
    "models=[]\n",
    "models.append(('LR',LogisticRegression()))\n",
    "models.append(('SVM',SVC()))\n",
    "results = []\n",
    "names = []\n",
    "for name,model in models:\n",
    "    kfold = model_selection.KFold(n_splits=10,random_state=seed)\n",
    "    cv_results=model_selection.cross_val_score(model,X_train,Y_train,cv=kfold,scoring=scoring)\n",
    "    results.append(cv_results)\n",
    "    names.append(name)\n",
    "    msg = \"%s: %f (%f)\" % (name,cv_results.mean(),cv_results.std())\n",
    "    print(msg)"
   ]
  },
  {
   "cell_type": "code",
   "execution_count": null,
   "metadata": {},
   "outputs": [],
   "source": []
  }
 ],
 "metadata": {
  "kernelspec": {
   "display_name": "Python 3",
   "language": "python",
   "name": "python3"
  },
  "language_info": {
   "codemirror_mode": {
    "name": "ipython",
    "version": 3
   },
   "file_extension": ".py",
   "mimetype": "text/x-python",
   "name": "python",
   "nbconvert_exporter": "python",
   "pygments_lexer": "ipython3",
   "version": "3.8.3"
  }
 },
 "nbformat": 4,
 "nbformat_minor": 4
}
