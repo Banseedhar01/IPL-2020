{
 "cells": [
  {
   "cell_type": "code",
   "execution_count": 1,
   "metadata": {
    "_cell_guid": "8d71ec8d-c0d8-49f4-9d03-f4e87c5feb30",
    "_uuid": "8f8f9873-3bfe-4603-aabe-0c262473bf1a"
   },
   "outputs": [],
   "source": [
    "import numpy as np\n",
    "import pandas as pd\n",
    "import seaborn as sns\n",
    "import matplotlib.pyplot as plt\n",
    "%matplotlib inline"
   ]
  },
  {
   "cell_type": "markdown",
   "metadata": {
    "_cell_guid": "4a9acb65-87d9-4e60-842f-fe96fe7b0ac0",
    "_uuid": "107c9cc0-7dda-4cbc-b732-1c9d0714fb35"
   },
   "source": [
    "# Data Preproessing"
   ]
  },
  {
   "cell_type": "code",
   "execution_count": 2,
   "metadata": {
    "_cell_guid": "22573046-68a1-4a51-bfda-303899328013",
    "_uuid": "05b294b2-1f2e-4f51-b231-737b39956779"
   },
   "outputs": [],
   "source": [
    "tr = pd.read_csv('train.csv')\n",
    "te = pd.read_csv('test.csv')\n",
    "Y_test = pd.read_csv('submission.csv')"
   ]
  },
  {
   "cell_type": "code",
   "execution_count": 3,
   "metadata": {
    "_cell_guid": "cf5b7ca0-3d85-413e-a670-b0d9f4fe8acf",
    "_uuid": "c818cda6-9ec7-4b86-b70a-199420dd99ed"
   },
   "outputs": [
    {
     "data": {
      "text/plain": [
       "Index(['PassengerId', 'Survived', 'Pclass', 'Name', 'Sex', 'Age', 'SibSp',\n",
       "       'Parch', 'Ticket', 'Fare', 'Cabin', 'Embarked'],\n",
       "      dtype='object')"
      ]
     },
     "execution_count": 3,
     "metadata": {},
     "output_type": "execute_result"
    }
   ],
   "source": [
    "tr.columns"
   ]
  },
  {
   "cell_type": "code",
   "execution_count": 4,
   "metadata": {
    "_cell_guid": "44c7047d-6c1b-444d-942e-e8adba31c8fd",
    "_uuid": "3b4b66f0-90e6-430d-8f04-a97e617708c1"
   },
   "outputs": [],
   "source": [
    "main = pd.concat([tr.drop('Survived', axis = 1), te])"
   ]
  },
  {
   "cell_type": "code",
   "execution_count": 5,
   "metadata": {
    "_cell_guid": "cf3cf2d6-d1ab-4bdd-9fec-8733e40d4ddc",
    "_uuid": "7f8e722d-0cc2-46ef-9982-671f74ca837b"
   },
   "outputs": [
    {
     "data": {
      "text/html": [
       "<div>\n",
       "<style scoped>\n",
       "    .dataframe tbody tr th:only-of-type {\n",
       "        vertical-align: middle;\n",
       "    }\n",
       "\n",
       "    .dataframe tbody tr th {\n",
       "        vertical-align: top;\n",
       "    }\n",
       "\n",
       "    .dataframe thead th {\n",
       "        text-align: right;\n",
       "    }\n",
       "</style>\n",
       "<table border=\"1\" class=\"dataframe\">\n",
       "  <thead>\n",
       "    <tr style=\"text-align: right;\">\n",
       "      <th></th>\n",
       "      <th>PassengerId</th>\n",
       "      <th>Pclass</th>\n",
       "      <th>Name</th>\n",
       "      <th>Sex</th>\n",
       "      <th>Age</th>\n",
       "      <th>SibSp</th>\n",
       "      <th>Parch</th>\n",
       "      <th>Ticket</th>\n",
       "      <th>Fare</th>\n",
       "      <th>Cabin</th>\n",
       "      <th>Embarked</th>\n",
       "    </tr>\n",
       "  </thead>\n",
       "  <tbody>\n",
       "    <tr>\n",
       "      <th>0</th>\n",
       "      <td>1</td>\n",
       "      <td>3</td>\n",
       "      <td>Braund, Mr. Owen Harris</td>\n",
       "      <td>male</td>\n",
       "      <td>22.0</td>\n",
       "      <td>1</td>\n",
       "      <td>0</td>\n",
       "      <td>A/5 21171</td>\n",
       "      <td>7.2500</td>\n",
       "      <td>NaN</td>\n",
       "      <td>S</td>\n",
       "    </tr>\n",
       "    <tr>\n",
       "      <th>1</th>\n",
       "      <td>2</td>\n",
       "      <td>1</td>\n",
       "      <td>Cumings, Mrs. John Bradley (Florence Briggs Th...</td>\n",
       "      <td>female</td>\n",
       "      <td>38.0</td>\n",
       "      <td>1</td>\n",
       "      <td>0</td>\n",
       "      <td>PC 17599</td>\n",
       "      <td>71.2833</td>\n",
       "      <td>C85</td>\n",
       "      <td>C</td>\n",
       "    </tr>\n",
       "    <tr>\n",
       "      <th>2</th>\n",
       "      <td>3</td>\n",
       "      <td>3</td>\n",
       "      <td>Heikkinen, Miss. Laina</td>\n",
       "      <td>female</td>\n",
       "      <td>26.0</td>\n",
       "      <td>0</td>\n",
       "      <td>0</td>\n",
       "      <td>STON/O2. 3101282</td>\n",
       "      <td>7.9250</td>\n",
       "      <td>NaN</td>\n",
       "      <td>S</td>\n",
       "    </tr>\n",
       "    <tr>\n",
       "      <th>3</th>\n",
       "      <td>4</td>\n",
       "      <td>1</td>\n",
       "      <td>Futrelle, Mrs. Jacques Heath (Lily May Peel)</td>\n",
       "      <td>female</td>\n",
       "      <td>35.0</td>\n",
       "      <td>1</td>\n",
       "      <td>0</td>\n",
       "      <td>113803</td>\n",
       "      <td>53.1000</td>\n",
       "      <td>C123</td>\n",
       "      <td>S</td>\n",
       "    </tr>\n",
       "    <tr>\n",
       "      <th>4</th>\n",
       "      <td>5</td>\n",
       "      <td>3</td>\n",
       "      <td>Allen, Mr. William Henry</td>\n",
       "      <td>male</td>\n",
       "      <td>35.0</td>\n",
       "      <td>0</td>\n",
       "      <td>0</td>\n",
       "      <td>373450</td>\n",
       "      <td>8.0500</td>\n",
       "      <td>NaN</td>\n",
       "      <td>S</td>\n",
       "    </tr>\n",
       "    <tr>\n",
       "      <th>...</th>\n",
       "      <td>...</td>\n",
       "      <td>...</td>\n",
       "      <td>...</td>\n",
       "      <td>...</td>\n",
       "      <td>...</td>\n",
       "      <td>...</td>\n",
       "      <td>...</td>\n",
       "      <td>...</td>\n",
       "      <td>...</td>\n",
       "      <td>...</td>\n",
       "      <td>...</td>\n",
       "    </tr>\n",
       "    <tr>\n",
       "      <th>413</th>\n",
       "      <td>1305</td>\n",
       "      <td>3</td>\n",
       "      <td>Spector, Mr. Woolf</td>\n",
       "      <td>male</td>\n",
       "      <td>NaN</td>\n",
       "      <td>0</td>\n",
       "      <td>0</td>\n",
       "      <td>A.5. 3236</td>\n",
       "      <td>8.0500</td>\n",
       "      <td>NaN</td>\n",
       "      <td>S</td>\n",
       "    </tr>\n",
       "    <tr>\n",
       "      <th>414</th>\n",
       "      <td>1306</td>\n",
       "      <td>1</td>\n",
       "      <td>Oliva y Ocana, Dona. Fermina</td>\n",
       "      <td>female</td>\n",
       "      <td>39.0</td>\n",
       "      <td>0</td>\n",
       "      <td>0</td>\n",
       "      <td>PC 17758</td>\n",
       "      <td>108.9000</td>\n",
       "      <td>C105</td>\n",
       "      <td>C</td>\n",
       "    </tr>\n",
       "    <tr>\n",
       "      <th>415</th>\n",
       "      <td>1307</td>\n",
       "      <td>3</td>\n",
       "      <td>Saether, Mr. Simon Sivertsen</td>\n",
       "      <td>male</td>\n",
       "      <td>38.5</td>\n",
       "      <td>0</td>\n",
       "      <td>0</td>\n",
       "      <td>SOTON/O.Q. 3101262</td>\n",
       "      <td>7.2500</td>\n",
       "      <td>NaN</td>\n",
       "      <td>S</td>\n",
       "    </tr>\n",
       "    <tr>\n",
       "      <th>416</th>\n",
       "      <td>1308</td>\n",
       "      <td>3</td>\n",
       "      <td>Ware, Mr. Frederick</td>\n",
       "      <td>male</td>\n",
       "      <td>NaN</td>\n",
       "      <td>0</td>\n",
       "      <td>0</td>\n",
       "      <td>359309</td>\n",
       "      <td>8.0500</td>\n",
       "      <td>NaN</td>\n",
       "      <td>S</td>\n",
       "    </tr>\n",
       "    <tr>\n",
       "      <th>417</th>\n",
       "      <td>1309</td>\n",
       "      <td>3</td>\n",
       "      <td>Peter, Master. Michael J</td>\n",
       "      <td>male</td>\n",
       "      <td>NaN</td>\n",
       "      <td>1</td>\n",
       "      <td>1</td>\n",
       "      <td>2668</td>\n",
       "      <td>22.3583</td>\n",
       "      <td>NaN</td>\n",
       "      <td>C</td>\n",
       "    </tr>\n",
       "  </tbody>\n",
       "</table>\n",
       "<p>1309 rows × 11 columns</p>\n",
       "</div>"
      ],
      "text/plain": [
       "     PassengerId  Pclass                                               Name  \\\n",
       "0              1       3                            Braund, Mr. Owen Harris   \n",
       "1              2       1  Cumings, Mrs. John Bradley (Florence Briggs Th...   \n",
       "2              3       3                             Heikkinen, Miss. Laina   \n",
       "3              4       1       Futrelle, Mrs. Jacques Heath (Lily May Peel)   \n",
       "4              5       3                           Allen, Mr. William Henry   \n",
       "..           ...     ...                                                ...   \n",
       "413         1305       3                                 Spector, Mr. Woolf   \n",
       "414         1306       1                       Oliva y Ocana, Dona. Fermina   \n",
       "415         1307       3                       Saether, Mr. Simon Sivertsen   \n",
       "416         1308       3                                Ware, Mr. Frederick   \n",
       "417         1309       3                           Peter, Master. Michael J   \n",
       "\n",
       "        Sex   Age  SibSp  Parch              Ticket      Fare Cabin Embarked  \n",
       "0      male  22.0      1      0           A/5 21171    7.2500   NaN        S  \n",
       "1    female  38.0      1      0            PC 17599   71.2833   C85        C  \n",
       "2    female  26.0      0      0    STON/O2. 3101282    7.9250   NaN        S  \n",
       "3    female  35.0      1      0              113803   53.1000  C123        S  \n",
       "4      male  35.0      0      0              373450    8.0500   NaN        S  \n",
       "..      ...   ...    ...    ...                 ...       ...   ...      ...  \n",
       "413    male   NaN      0      0           A.5. 3236    8.0500   NaN        S  \n",
       "414  female  39.0      0      0            PC 17758  108.9000  C105        C  \n",
       "415    male  38.5      0      0  SOTON/O.Q. 3101262    7.2500   NaN        S  \n",
       "416    male   NaN      0      0              359309    8.0500   NaN        S  \n",
       "417    male   NaN      1      1                2668   22.3583   NaN        C  \n",
       "\n",
       "[1309 rows x 11 columns]"
      ]
     },
     "execution_count": 5,
     "metadata": {},
     "output_type": "execute_result"
    }
   ],
   "source": [
    "main"
   ]
  },
  {
   "cell_type": "code",
   "execution_count": 6,
   "metadata": {
    "_cell_guid": "f984d5ad-95bc-4f37-8544-fc0a17d67024",
    "_uuid": "3469ba85-34e9-4614-b516-ec67d7b0a22e"
   },
   "outputs": [],
   "source": [
    "relatives = pd.Series(main['Parch'] + main['SibSp'], name = 'Relatives')"
   ]
  },
  {
   "cell_type": "code",
   "execution_count": 7,
   "metadata": {
    "_cell_guid": "115c210d-8e8a-4e60-8b78-b93c6de46ee7",
    "_uuid": "8c9bb61a-307a-4c47-86ce-9302431313bd"
   },
   "outputs": [],
   "source": [
    "main = pd.concat([main[['Name', 'Pclass', 'Sex', 'Age','Embarked']], relatives], axis = 1)"
   ]
  },
  {
   "cell_type": "code",
   "execution_count": 8,
   "metadata": {
    "_cell_guid": "fd1a22d9-bacf-492b-a04c-2c46d9a2c5d5",
    "_uuid": "57dc352c-7416-4aea-b02a-eea7364b534d"
   },
   "outputs": [],
   "source": [
    "def ext(name):\n",
    "    name = name.split(',')[1].split()\n",
    "    for i in name:\n",
    "        if i[len(i)-1] == '.':\n",
    "            return i"
   ]
  },
  {
   "cell_type": "code",
   "execution_count": 9,
   "metadata": {
    "_cell_guid": "49650b51-bfcc-429d-a9ed-141a2156b646",
    "_uuid": "9a654d92-b9d3-42ad-becd-3673c0ab8c3e"
   },
   "outputs": [],
   "source": [
    "main['Name'] = main['Name'].apply(ext)"
   ]
  },
  {
   "cell_type": "code",
   "execution_count": 10,
   "metadata": {
    "_cell_guid": "bb92a997-d9a8-4778-a190-b67b048a3570",
    "_uuid": "238cd9b8-385f-4cb2-b108-9c748ffe6ec4"
   },
   "outputs": [
    {
     "data": {
      "text/plain": [
       "Mr.          757\n",
       "Miss.        260\n",
       "Mrs.         197\n",
       "Master.       61\n",
       "Rev.           8\n",
       "Dr.            8\n",
       "Col.           4\n",
       "Mlle.          2\n",
       "Ms.            2\n",
       "Major.         2\n",
       "Sir.           1\n",
       "Capt.          1\n",
       "Don.           1\n",
       "Mme.           1\n",
       "Countess.      1\n",
       "Dona.          1\n",
       "Jonkheer.      1\n",
       "Lady.          1\n",
       "Name: Name, dtype: int64"
      ]
     },
     "execution_count": 10,
     "metadata": {},
     "output_type": "execute_result"
    }
   ],
   "source": [
    "main.Name.value_counts()"
   ]
  },
  {
   "cell_type": "code",
   "execution_count": 11,
   "metadata": {
    "_cell_guid": "419293d5-535f-4740-8413-92265a4d3c4b",
    "_uuid": "ffa0b1c0-b217-4210-8295-95578a704c1b"
   },
   "outputs": [],
   "source": [
    "mean = main['Age'].mean()\n",
    "std = main['Age'].std()"
   ]
  },
  {
   "cell_type": "code",
   "execution_count": 12,
   "metadata": {
    "_cell_guid": "13d11df8-a1fc-47ca-81fb-ade0b6f1b501",
    "_uuid": "b41c45b2-d9f3-4f3f-a73d-0c2d065950c8"
   },
   "outputs": [],
   "source": [
    "def check(age):\n",
    "    if age <= 13:\n",
    "        return 1\n",
    "    elif age > 13 and age <= 20:\n",
    "        return 2\n",
    "    elif age > 20 and age <= 30:\n",
    "        return 3\n",
    "    elif age > 30 and age <= 40:\n",
    "        return 4\n",
    "    elif age > 40 and age <= 50:\n",
    "        return 5\n",
    "    elif age > 50:\n",
    "        return 6\n",
    "    elif pd.isnull(age):\n",
    "        return check(np.random.randint(mean - std, mean + std, 1)[0])"
   ]
  },
  {
   "cell_type": "code",
   "execution_count": 13,
   "metadata": {
    "_cell_guid": "1294235e-bce9-435a-bc6c-b7e96fe558dc",
    "_uuid": "06cbd53c-80d7-4d2c-941f-ee82a3171939"
   },
   "outputs": [],
   "source": [
    "main['Age'] = main['Age'].apply(check)"
   ]
  },
  {
   "cell_type": "code",
   "execution_count": 14,
   "metadata": {
    "_cell_guid": "b1d29925-94fb-4d13-96e5-6d340d8560af",
    "_uuid": "29b82f4a-af95-400d-af9b-214fbe7895fd"
   },
   "outputs": [],
   "source": [
    "from sklearn import preprocessing \n",
    "label_encoder = preprocessing.LabelEncoder() \n",
    "main['Name']= label_encoder.fit_transform(main['Name'])"
   ]
  },
  {
   "cell_type": "code",
   "execution_count": 15,
   "metadata": {
    "_cell_guid": "fb6a78b8-43e6-4dac-9f62-7045d8025f74",
    "_uuid": "547a6825-6673-4290-a300-c278feb6ee2d"
   },
   "outputs": [
    {
     "data": {
      "text/plain": [
       "13    757\n",
       "10    260\n",
       "14    197\n",
       "9      61\n",
       "16      8\n",
       "5       8\n",
       "1       4\n",
       "8       2\n",
       "15      2\n",
       "11      2\n",
       "4       1\n",
       "2       1\n",
       "3       1\n",
       "17      1\n",
       "6       1\n",
       "7       1\n",
       "12      1\n",
       "0       1\n",
       "Name: Name, dtype: int64"
      ]
     },
     "execution_count": 15,
     "metadata": {},
     "output_type": "execute_result"
    }
   ],
   "source": [
    "main.Name.value_counts()"
   ]
  },
  {
   "cell_type": "code",
   "execution_count": 16,
   "metadata": {
    "_cell_guid": "cb3c914f-f6ce-4e59-907d-272a3adafb3e",
    "_uuid": "3c0d2b88-dda6-4bf2-bce8-1de495192771"
   },
   "outputs": [],
   "source": [
    "main['Name'] = main['Name'].apply(lambda x : x if(x == 13 or x == 10 or x == 14 or x == 9) else 0)"
   ]
  },
  {
   "cell_type": "code",
   "execution_count": 17,
   "metadata": {
    "_cell_guid": "26f46d31-c6d5-4989-82c9-ba7b2586af48",
    "_uuid": "069ea832-73cf-4cce-bc1d-633036617b1f"
   },
   "outputs": [
    {
     "data": {
      "text/plain": [
       "array([13, 14, 10,  9,  0], dtype=int64)"
      ]
     },
     "execution_count": 17,
     "metadata": {},
     "output_type": "execute_result"
    }
   ],
   "source": [
    "main.Name.unique()"
   ]
  },
  {
   "cell_type": "code",
   "execution_count": 18,
   "metadata": {
    "_cell_guid": "b38ad494-0235-4130-a404-9a40dce7a136",
    "_uuid": "efe255ee-cdbe-448c-90ef-c057de720da6"
   },
   "outputs": [],
   "source": [
    "main.Sex = main.Sex.map({'female':1, 'male': 0})"
   ]
  },
  {
   "cell_type": "code",
   "execution_count": 19,
   "metadata": {
    "_cell_guid": "8d5deffd-964a-4a8e-9a7b-6e64a8b34dcf",
    "_uuid": "68936fd6-4f9a-40f5-9b5a-28770a5881cb"
   },
   "outputs": [],
   "source": [
    "main.Embarked = main.Embarked.map({'S':1, 'C':2, 'Q':3})"
   ]
  },
  {
   "cell_type": "code",
   "execution_count": 20,
   "metadata": {
    "_cell_guid": "18aee967-5c8c-4d7f-b7ee-77e9f377342f",
    "_uuid": "206dbb87-f699-47e6-9a5a-6d6edcbc69fa"
   },
   "outputs": [],
   "source": [
    "main.Embarked.fillna(int(main.Embarked.mode()[0]), inplace = True)"
   ]
  },
  {
   "cell_type": "markdown",
   "metadata": {
    "_cell_guid": "7ca77a6a-34d0-4a2a-ba3a-c7caf26966cf",
    "_uuid": "cb0c0632-8f2a-4079-9d8c-06ab9ce83345"
   },
   "source": [
    "# Exploratory data analysis"
   ]
  },
  {
   "cell_type": "code",
   "execution_count": 21,
   "metadata": {
    "_cell_guid": "2c1a4a4f-3091-4527-9b85-a8deb6b2a88d",
    "_uuid": "939a5e3b-862d-43ba-83d1-47cf9113f888"
   },
   "outputs": [],
   "source": [
    "temp = pd.concat([main[:len(tr)], tr['Survived']], axis = 1)"
   ]
  },
  {
   "cell_type": "code",
   "execution_count": 22,
   "metadata": {
    "_cell_guid": "ee121e57-edfd-4efb-a0ec-40724f3f2ce7",
    "_uuid": "307ac327-fd42-4ca2-ab4b-064b25cf2db6"
   },
   "outputs": [],
   "source": [
    "corr_age = temp.corr()"
   ]
  },
  {
   "cell_type": "markdown",
   "metadata": {
    "_cell_guid": "a237953e-2c07-4ae4-9dde-4a0ae06cd795",
    "_uuid": "2512668d-b9af-4e5a-8c51-e4a9c357c2c4"
   },
   "source": [
    "# Visualisation of data"
   ]
  },
  {
   "cell_type": "code",
   "execution_count": 23,
   "metadata": {
    "_cell_guid": "c34697a8-cbe6-4dfe-a29b-ab6c4a45e912",
    "_uuid": "0d021811-1190-40fe-8444-94ea08706b06"
   },
   "outputs": [
    {
     "data": {
      "image/png": "[encoded data removed]",
      "text/plain": [
       "<Figure size 1440x720 with 2 Axes>"
      ]
     },
     "metadata": {
      "needs_background": "light"
     },
     "output_type": "display_data"
    }
   ],
   "source": [
    "fig, axes = plt.subplots(figsize=(20,10))\n",
    "sns.heatmap(corr_age, annot = True, linewidth = 1)\n",
    "plt.show()"
   ]
  },
  {
   "cell_type": "markdown",
   "metadata": {
    "_cell_guid": "c20427d5-1dcc-4229-be0a-33c4591d9556",
    "_uuid": "ded06208-d8ef-4309-a780-bac53de509db"
   },
   "source": [
    "this corelation matrix shows us that Name, Embarked, Fare, Sex, Pclass are of high importances"
   ]
  },
  {
   "cell_type": "markdown",
   "metadata": {
    "_cell_guid": "9a737dc7-6e1c-497c-a7c2-d1f2780adfd7",
    "_uuid": "5a7f0e76-659b-4bd6-a110-9bc23a468318"
   },
   "source": [
    "Let's See some visualisation to see thier results"
   ]
  },
  {
   "cell_type": "code",
   "execution_count": 24,
   "metadata": {
    "_cell_guid": "ec2b053e-96e9-46f1-9ceb-9094edda4c2c",
    "_uuid": "5a8b287b-1037-4b9b-a5ab-079520f8c6d8"
   },
   "outputs": [
    {
     "data": {
      "image/png": "[encoded data removed]",
      "text/plain": [
       "<Figure size 432x288 with 1 Axes>"
      ]
     },
     "metadata": {
      "needs_background": "light"
     },
     "output_type": "display_data"
    }
   ],
   "source": [
    "sns.barplot(data = temp , x = 'Pclass', y = 'Survived')\n",
    "plt.title('Survived VS Pclass WRT Titles')\n",
    "plt.show()"
   ]
  },
  {
   "cell_type": "markdown",
   "metadata": {
    "_cell_guid": "8dda3d79-c5ce-4274-ab0e-cc21166bb25c",
    "_uuid": "b0782c45-0769-4a18-b0e0-5c44b6546913"
   },
   "source": [
    "Here we can see that higher the Pclass, Higher the Survival Chances"
   ]
  },
  {
   "cell_type": "code",
   "execution_count": 25,
   "metadata": {
    "_cell_guid": "cf99e638-f440-4dca-b96c-9ed65690a3a4",
    "_uuid": "807971c1-d278-4049-9f9c-88449a452a96"
   },
   "outputs": [
    {
     "data": {
      "image/png": "[encoded data removed]",
      "text/plain": [
       "<Figure size 432x288 with 1 Axes>"
      ]
     },
     "metadata": {
      "needs_background": "light"
     },
     "output_type": "display_data"
    }
   ],
   "source": [
    "sns.barplot(data = temp, x = 'Relatives', y = 'Survived')\n",
    "plt.show()"
   ]
  },
  {
   "cell_type": "markdown",
   "metadata": {
    "_cell_guid": "048b4691-2a5d-433d-b3b6-6ffc7cc3d9a7",
    "_uuid": "5b0ba8e3-0f86-47c6-905c-cb3436a573f4"
   },
   "source": [
    "No. of relatives have very high varince so it is not reliable feature."
   ]
  },
  {
   "cell_type": "code",
   "execution_count": 26,
   "metadata": {
    "_cell_guid": "7a62dc9a-f711-4a01-a3b0-624f022d8ab3",
    "_uuid": "10f5daad-995d-4867-a8b8-3cdc63e2894a"
   },
   "outputs": [
    {
     "data": {
      "image/png": "[encoded data removed]",
      "text/plain": [
       "<Figure size 432x288 with 1 Axes>"
      ]
     },
     "metadata": {
      "needs_background": "light"
     },
     "output_type": "display_data"
    }
   ],
   "source": [
    "sns.barplot(data = temp, y = 'Survived', x = 'Embarked', hue = 'Sex')\n",
    "plt.show()"
   ]
  },
  {
   "cell_type": "markdown",
   "metadata": {
    "_cell_guid": "386440d0-f9c8-49f4-80b6-b9ffd2721443",
    "_uuid": "2841380c-93c6-4000-b4f7-a446506c2dbc"
   },
   "source": [
    "Here we can see that passengers with embarked = 2 have more chances of survival"
   ]
  },
  {
   "cell_type": "code",
   "execution_count": 27,
   "metadata": {
    "_cell_guid": "254840a1-45fc-41ca-b845-eae82bffa040",
    "_uuid": "539802bc-a485-4142-acc1-b0c811737fae"
   },
   "outputs": [
    {
     "data": {
      "image/png": "[encoded data removed]",
      "text/plain": [
       "<Figure size 432x288 with 1 Axes>"
      ]
     },
     "metadata": {
      "needs_background": "light"
     },
     "output_type": "display_data"
    }
   ],
   "source": [
    "sns.barplot(data = temp, x = 'Pclass', y = 'Survived', hue = 'Sex')\n",
    "plt.show()"
   ]
  },
  {
   "cell_type": "code",
   "execution_count": 28,
   "metadata": {
    "_cell_guid": "43c2974c-115e-49bb-ac51-4362561d5f49",
    "_uuid": "0a5e871e-acf6-4309-89fa-b93c34a9470f"
   },
   "outputs": [
    {
     "data": {
      "image/png": "[encoded data removed]",
      "text/plain": [
       "<Figure size 432x288 with 1 Axes>"
      ]
     },
     "metadata": {
      "needs_background": "light"
     },
     "output_type": "display_data"
    }
   ],
   "source": [
    "sns.pointplot(data = temp, x='Age', y = 'Survived', hue = 'Sex')\n",
    "plt.show()"
   ]
  },
  {
   "cell_type": "markdown",
   "metadata": {
    "_cell_guid": "f24cd04c-fcf5-4a50-b0c3-d39dbcb1777b",
    "_uuid": "01886db4-e323-4dd1-9259-d533c2e38e73"
   },
   "source": [
    "Here we can see that their priority was Female and childrens but else than that, it doesn't show any special corealtions"
   ]
  },
  {
   "cell_type": "code",
   "execution_count": 29,
   "metadata": {
    "_cell_guid": "40aacf8a-c67d-40d7-b656-2beb7b314f38",
    "_uuid": "1092d704-9385-4f3f-9010-98555ca99958"
   },
   "outputs": [
    {
     "data": {
      "image/png": "[encoded data removed]",
      "text/plain": [
       "<Figure size 432x288 with 1 Axes>"
      ]
     },
     "metadata": {
      "needs_background": "light"
     },
     "output_type": "display_data"
    }
   ],
   "source": [
    "sns.barplot(data = temp, x='Name', y = 'Survived')\n",
    "plt.show()"
   ]
  },
  {
   "cell_type": "code",
   "execution_count": 30,
   "metadata": {
    "_cell_guid": "030b95ec-f788-4f17-b58a-225ee044f2ee",
    "_uuid": "1e380b65-53ab-4cfb-b9db-76f9e2ec0141"
   },
   "outputs": [],
   "source": [
    "main = main[['Name', 'Pclass', 'Sex', 'Age','Embarked']]"
   ]
  },
  {
   "cell_type": "code",
   "execution_count": 31,
   "metadata": {
    "_cell_guid": "ce5fe730-2417-41a8-a9ea-c6e51b136dfc",
    "_uuid": "300e0dd9-fd80-4dcc-aae2-196c630cfa0b"
   },
   "outputs": [
    {
     "data": {
      "text/plain": [
       "Name        0\n",
       "Pclass      0\n",
       "Sex         0\n",
       "Age         0\n",
       "Embarked    0\n",
       "dtype: int64"
      ]
     },
     "execution_count": 31,
     "metadata": {},
     "output_type": "execute_result"
    }
   ],
   "source": [
    "main.isnull().sum()"
   ]
  },
  {
   "cell_type": "code",
   "execution_count": 32,
   "metadata": {
    "_cell_guid": "0f7bd7fb-4e85-401e-9499-fd57934436d3",
    "_uuid": "7a02d6fa-5bf3-4813-93c8-7f31fe570947"
   },
   "outputs": [],
   "source": [
    "main.drop('Age',axis = 1, inplace = True)"
   ]
  },
  {
   "cell_type": "code",
   "execution_count": 33,
   "metadata": {
    "_cell_guid": "c52ceca8-eb42-4ec4-896c-5c149d81c57a",
    "_uuid": "58824241-713a-4a98-9305-222abc76ca31"
   },
   "outputs": [
    {
     "data": {
      "text/plain": [
       "891"
      ]
     },
     "execution_count": 33,
     "metadata": {},
     "output_type": "execute_result"
    }
   ],
   "source": [
    "len(tr)"
   ]
  },
  {
   "cell_type": "code",
   "execution_count": 34,
   "metadata": {
    "_cell_guid": "6179014e-2c53-4b92-87e3-b07b9059ed91",
    "_uuid": "f58e30cb-c278-4c62-a877-6b176e668f9b"
   },
   "outputs": [],
   "source": [
    "X_train = main.iloc[:len(tr), :].copy()\n",
    "X_test = main.iloc[len(tr):, :].copy()\n",
    "Y_train = tr['Survived'].copy()"
   ]
  },
  {
   "cell_type": "code",
   "execution_count": 35,
   "metadata": {
    "_cell_guid": "9e8e0eb1-218b-4421-a5bb-ada2b4657eec",
    "_uuid": "5f0ac023-f04e-4712-a348-ddfbbc286b38"
   },
   "outputs": [],
   "source": [
    "from sklearn.preprocessing import StandardScaler\n",
    "sc = StandardScaler()\n",
    "X_train = sc.fit_transform(X_train)\n",
    "X_test = sc.transform(X_test)"
   ]
  },
  {
   "cell_type": "code",
   "execution_count": 36,
   "metadata": {
    "_cell_guid": "fe3e7d43-37b8-4d38-8f0a-cacf076cfc7f",
    "_uuid": "c3ae0026-fb79-422a-bb61-2f10026a33b3"
   },
   "outputs": [],
   "source": [
    "from sklearn.metrics import accuracy_score as acc\n",
    "from sklearn.metrics import f1_score as f1\n",
    "from sklearn.model_selection import cross_val_score"
   ]
  },
  {
   "cell_type": "markdown",
   "metadata": {
    "_cell_guid": "b4382410-9ea9-4aa7-a87b-62d7fd10a82b",
    "_uuid": "ef851a10-c85a-45cc-ab5c-8d1308f75c17"
   },
   "source": [
    "# Logistic Regression"
   ]
  },
  {
   "cell_type": "code",
   "execution_count": 37,
   "metadata": {
    "_cell_guid": "31bfb21a-f04a-4475-9acf-2c7bb1660bda",
    "_uuid": "18208455-fa43-48d9-9558-375986997961"
   },
   "outputs": [
    {
     "name": "stdout",
     "output_type": "stream",
     "text": [
      "K-Fold Cross Validation accuracy with 10 Folds is 78.56179775280899 % And it's Standard Deviation is 2.5958703960797576 %\n",
      "Accuracy on training Set 78.67564534231201 %\n",
      "Accurcay on test set :- 76.55502392344498\n"
     ]
    }
   ],
   "source": [
    "from sklearn.linear_model import LogisticRegression\n",
    "classifier_LR = LogisticRegression()\n",
    "classifier_LR.fit(X_train, Y_train)\n",
    "accuracies_LR = cross_val_score(estimator = classifier_LR, X = X_train, y = Y_train, cv = 10)\n",
    "print('K-Fold Cross Validation accuracy with 10 Folds is', accuracies_LR.mean()*100,'% And it\\'s Standard Deviation is',  accuracies_LR.std()*100,'%')\n",
    "Y_tr_pred = classifier_LR.predict(X_train)\n",
    "print('Accuracy on training Set', acc(Y_train, Y_tr_pred)*100,'%')\n",
    "Y_pred = classifier_LR.predict(X_test)\n",
    "print(\"Accurcay on test set :-\", acc(Y_test['Survived'].to_numpy(), Y_pred)*100)"
   ]
  },
  {
   "cell_type": "markdown",
   "metadata": {},
   "source": [
    "# KNN Classiifer"
   ]
  },
  {
   "cell_type": "code",
   "execution_count": 38,
   "metadata": {},
   "outputs": [
    {
     "name": "stdout",
     "output_type": "stream",
     "text": [
      "K-Fold Cross Validation accuracy with 10 Folds is 78.56179775280899 % And it's Standard Deviation is 2.5958703960797576 %\n",
      "Accuracy on training Set 78.67564534231201 %\n",
      "Accurcay on test set :- 77.51196172248804\n"
     ]
    }
   ],
   "source": [
    "from sklearn.neighbors import KNeighborsClassifier\n",
    "classifier_KNN = KNeighborsClassifier()\n",
    "classifier_KNN.fit(X_train,Y_train)\n",
    "accuracies_KNN = cross_val_score(estimator = classifier_LR, X = X_train, y = Y_train, cv = 10)\n",
    "print('K-Fold Cross Validation accuracy with 10 Folds is', accuracies_KNN.mean()*100,'% And it\\'s Standard Deviation is',  accuracies_KNN.std()*100,'%')\n",
    "Y_tr_pred = classifier_LR.predict(X_train)\n",
    "print('Accuracy on training Set', acc(Y_train, Y_tr_pred)*100,'%')\n",
    "Y_pred = classifier_KNN.predict(X_test)\n",
    "print(\"Accurcay on test set :-\", acc(Y_test['Survived'].to_numpy(), Y_pred)*100)"
   ]
  },
  {
   "cell_type": "markdown",
   "metadata": {},
   "source": [
    "# SVC"
   ]
  },
  {
   "cell_type": "code",
   "execution_count": 39,
   "metadata": {},
   "outputs": [
    {
     "name": "stdout",
     "output_type": "stream",
     "text": [
      "K-Fold Cross Validation accuracy with 10 Folds is 82.04119850187267 % And it's Standard Deviation is 3.8655332551558113 %\n",
      "Accuracy on training Set 82.94051627384961 %\n",
      "Accurcay on test set :- 78.94736842105263\n"
     ]
    }
   ],
   "source": [
    "from sklearn.svm import SVC\n",
    "classifier_SVC = SVC(kernel = 'rbf')\n",
    "classifier_SVC.fit(X_train, Y_train)\n",
    "accuracies_SVC = cross_val_score(estimator = classifier_SVC, X = X_train, y = Y_train, cv = 10)\n",
    "print('K-Fold Cross Validation accuracy with 10 Folds is', accuracies_SVC.mean()*100,'% And it\\'s Standard Deviation is',  accuracies_SVC.std()*100,'%')\n",
    "Y_tr_pred = classifier_SVC.predict(X_train)\n",
    "print('Accuracy on training Set', acc(Y_train, Y_tr_pred)*100,'%')\n",
    "Y_pred = classifier_SVC.predict(X_test)\n",
    "print(\"Accurcay on test set :-\", acc(Y_test['Survived'].to_numpy(), Y_pred)*100)"
   ]
  },
  {
   "cell_type": "markdown",
   "metadata": {},
   "source": [
    "# Decision Trees"
   ]
  },
  {
   "cell_type": "code",
   "execution_count": 40,
   "metadata": {},
   "outputs": [
    {
     "name": "stdout",
     "output_type": "stream",
     "text": [
      "K-Fold Cross Validation accuracy with 10 Folds is 82.82771535580524 % And it's Standard Deviation is 3.299336373039556 %\n",
      "Accuracy on training Set 83.16498316498317 %\n",
      "Accurcay on test set :- 78.70813397129187\n"
     ]
    }
   ],
   "source": [
    "from sklearn.tree import DecisionTreeClassifier\n",
    "classifier_DT = DecisionTreeClassifier(criterion = 'entropy', random_state = 0)\n",
    "classifier_DT.fit(X_train, Y_train)\n",
    "accuracies_DT = cross_val_score(estimator = classifier_DT, X = X_train, y = Y_train, cv = 10)\n",
    "print('K-Fold Cross Validation accuracy with 10 Folds is', accuracies_DT.mean()*100,'% And it\\'s Standard Deviation is',  accuracies_DT.std()*100,'%')\n",
    "Y_tr_pred = classifier_DT.predict(X_train)\n",
    "print('Accuracy on training Set', acc(Y_train, Y_tr_pred)*100,'%')\n",
    "Y_pred = classifier_DT.predict(X_test)\n",
    "print(\"Accurcay on test set :-\", acc(Y_test['Survived'].to_numpy(), Y_pred)*100)"
   ]
  },
  {
   "cell_type": "markdown",
   "metadata": {},
   "source": [
    "# Random Forest"
   ]
  },
  {
   "cell_type": "code",
   "execution_count": 41,
   "metadata": {},
   "outputs": [
    {
     "name": "stdout",
     "output_type": "stream",
     "text": [
      "K-Fold Cross Validation accuracy with 10 Folds is 82.04119850187264 % And it's Standard Deviation is 3.962300778949326 %\n",
      "Accuracy on training Set 83.16498316498317 %\n",
      "Accurcay on test set :- 78.70813397129187\n"
     ]
    }
   ],
   "source": [
    "from sklearn.ensemble import RandomForestClassifier\n",
    "classifier_RF = RandomForestClassifier(n_estimators = 300, criterion = 'entropy')\n",
    "classifier_RF.fit(X_train, Y_train)\n",
    "accuracies_RF = cross_val_score(estimator = classifier_RF, X = X_train, y = Y_train, cv = 10)\n",
    "print('K-Fold Cross Validation accuracy with 10 Folds is', accuracies_RF.mean()*100,'% And it\\'s Standard Deviation is',  accuracies_RF.std()*100,'%')\n",
    "Y_tr_pred = classifier_RF.predict(X_train)\n",
    "print('Accuracy on training Set', acc(Y_train, Y_tr_pred)*100,'%')\n",
    "Y_pred = classifier_RF.predict(X_test)\n",
    "print(\"Accurcay on test set :-\", acc(Y_test['Survived'].to_numpy(), Y_pred)*100)"
   ]
  },
  {
   "cell_type": "markdown",
   "metadata": {},
   "source": [
    "# XGBoost"
   ]
  },
  {
   "cell_type": "code",
   "execution_count": 42,
   "metadata": {},
   "outputs": [
    {
     "name": "stdout",
     "output_type": "stream",
     "text": [
      "K-Fold Cross Validation accuracy with 10 Folds is 82.82771535580524 % And it's Standard Deviation is 3.374997369859683 %\n",
      "Accuracy on training Set 83.05274971941638 %\n",
      "Accurcay on test set :- 78.94736842105263\n"
     ]
    }
   ],
   "source": [
    "from xgboost import XGBClassifier\n",
    "classifier_XG = XGBClassifier()\n",
    "classifier_XG.fit(X_train, Y_train)\n",
    "accuracies_XG = cross_val_score(estimator = classifier_XG, X = X_train, y = Y_train, cv = 10)\n",
    "print('K-Fold Cross Validation accuracy with 10 Folds is', accuracies_XG.mean()*100,'% And it\\'s Standard Deviation is',  accuracies_XG.std()*100,'%')\n",
    "Y_tr_pred = classifier_XG.predict(X_train)\n",
    "print('Accuracy on training Set', acc(Y_train, Y_tr_pred)*100,'%')\n",
    "Y_pred = classifier_XG.predict(X_test)\n",
    "print(\"Accurcay on test set :-\", acc(Y_test['Survived'].to_numpy(), Y_pred)*100)"
   ]
  }
 ],
 "metadata": {
  "kernelspec": {
   "display_name": "Python 3",
   "language": "python",
   "name": "python3"
  },
  "language_info": {
   "codemirror_mode": {
    "name": "ipython",
    "version": 3
   },
   "file_extension": ".py",
   "mimetype": "text/x-python",
   "name": "python",
   "nbconvert_exporter": "python",
   "pygments_lexer": "ipython3",
   "version": "3.7.7"
  }
 },
 "nbformat": 4,
 "nbformat_minor": 4
}
