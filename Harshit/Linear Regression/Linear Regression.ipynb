{
 "cells": [
  {
   "cell_type": "code",
   "execution_count": 1,
   "metadata": {},
   "outputs": [],
   "source": [
    "import pandas as pd\n",
    "import numpy as np\n",
    "from sklearn.metrics import mean_squared_error, r2_score\n",
    "from sklearn.linear_model import LinearRegression\n",
    "from sklearn.model_selection import cross_val_score"
   ]
  },
  {
   "cell_type": "code",
   "execution_count": 2,
   "metadata": {},
   "outputs": [],
   "source": [
    "data = pd.read_csv('kc_house_data.csv')"
   ]
  },
  {
   "cell_type": "code",
   "execution_count": 3,
   "metadata": {},
   "outputs": [
    {
     "data": {
      "text/plain": [
       "['bedrooms',\n",
       " 'bathrooms',\n",
       " 'sqft_living',\n",
       " 'sqft_lot',\n",
       " 'floors',\n",
       " 'waterfront',\n",
       " 'view',\n",
       " 'condition',\n",
       " 'grade',\n",
       " 'sqft_above',\n",
       " 'sqft_basement',\n",
       " 'yr_built',\n",
       " 'yr_renovated',\n",
       " 'zipcode',\n",
       " 'lat',\n",
       " 'long',\n",
       " 'sqft_living15',\n",
       " 'sqft_lot15']"
      ]
     },
     "execution_count": 3,
     "metadata": {},
     "output_type": "execute_result"
    }
   ],
   "source": [
    "data.head()\n",
    "list(data.columns)[3:]"
   ]
  },
  {
   "cell_type": "code",
   "execution_count": 4,
   "metadata": {},
   "outputs": [],
   "source": [
    "class LinearRegressionS:\n",
    "    def predict(self, X):\n",
    "        return np.dot(X, self.W)\n",
    "    def cost(self, Y_P, Y_T):\n",
    "        return np.sum(np.square(Y_P - Y_T))/(2*Y_T.shape[0])\n",
    "    def fit(self, X, Y, print_cost = False):\n",
    "        self.W = np.linalg.pinv(X.transpose().dot(X)).dot(X.transpose()).dot(Y)"
   ]
  },
  {
   "cell_type": "code",
   "execution_count": 5,
   "metadata": {},
   "outputs": [],
   "source": [
    "Y = pd.DataFrame(data['price']).to_numpy(copy = True)"
   ]
  },
  {
   "cell_type": "code",
   "execution_count": 6,
   "metadata": {},
   "outputs": [],
   "source": [
    "temp = pd.DataFrame(data[list(data.columns)[3:]]).to_numpy(copy = True)"
   ]
  },
  {
   "cell_type": "code",
   "execution_count": 7,
   "metadata": {},
   "outputs": [],
   "source": [
    "X = np.ones((temp.shape[0], temp.shape[1] + 1))"
   ]
  },
  {
   "cell_type": "code",
   "execution_count": 8,
   "metadata": {},
   "outputs": [],
   "source": [
    "X[:, 1:] = temp"
   ]
  },
  {
   "cell_type": "code",
   "execution_count": 9,
   "metadata": {},
   "outputs": [],
   "source": [
    "X_train = X[:15000]\n",
    "Y_train = Y[:15000]\n",
    "X_test = X[15000:]\n",
    "Y_test = Y[15000:]"
   ]
  },
  {
   "cell_type": "code",
   "execution_count": 10,
   "metadata": {},
   "outputs": [],
   "source": [
    "ls = LinearRegressionS()\n",
    "ls.fit(X_train, Y_train, print_cost = False)"
   ]
  },
  {
   "cell_type": "code",
   "execution_count": 11,
   "metadata": {},
   "outputs": [
    {
     "name": "stdout",
     "output_type": "stream",
     "text": [
      "RMSE score :- 203423.47568836645\n"
     ]
    }
   ],
   "source": [
    "print(\"RMSE score :-\" , np.sqrt(mean_squared_error(Y_test, ls.predict(X_test))))"
   ]
  },
  {
   "cell_type": "code",
   "execution_count": 12,
   "metadata": {},
   "outputs": [
    {
     "name": "stdout",
     "output_type": "stream",
     "text": [
      "R2 Score :- 0.6943982002041091\n"
     ]
    }
   ],
   "source": [
    "print(\"R2 Score :-\", r2_score(Y_test, ls.predict(X_test)))"
   ]
  },
  {
   "cell_type": "code",
   "execution_count": 53,
   "metadata": {},
   "outputs": [
    {
     "data": {
      "text/plain": [
       "-200823.12149870317"
      ]
     },
     "execution_count": 53,
     "metadata": {},
     "output_type": "execute_result"
    }
   ],
   "source": [
    "linreg = LinearRegression()\n",
    "cross_val_score(linreg, temp[:15000], Y_train, cv=10, scoring = 'neg_root_mean_squared_error').mean()"
   ]
  },
  {
   "cell_type": "code",
   "execution_count": 58,
   "metadata": {},
   "outputs": [],
   "source": [
    "def cross_validation_split(X, Y, folds):\n",
    "    dataset = np.concatenate((X, Y), axis = 1)\n",
    "    np.random.shuffle(dataset)\n",
    "    fold_size = len(X)//folds\n",
    "    data_split = list()\n",
    "    for i in range(folds):\n",
    "        test_data = dataset[fold_size*(i):fold_size*(i+1), :]\n",
    "        train_data = np.concatenate((dataset[:fold_size*(i), :], dataset[fold_size*(i+1):, :]), axis = 0)\n",
    "        data_split.append([train_data, test_data])\n",
    "    return data_split"
   ]
  },
  {
   "cell_type": "code",
   "execution_count": 59,
   "metadata": {},
   "outputs": [],
   "source": [
    "def cross_validation(X, Y, folds):\n",
    "    data_split = cross_validation_split(X, Y, folds)\n",
    "    accuracy = list()\n",
    "    for i in data_split:\n",
    "        X_train = i[0][:, :-1]\n",
    "        Y_train = i[0][:, -1]\n",
    "        X_test = i[1][:, :-1]\n",
    "        Y_test = i[1][:, -1]\n",
    "        regressor = LinearRegressionS()\n",
    "        regressor.fit(X_train, Y_train)\n",
    "        accuracy.append(np.sqrt(mean_squared_error(Y_test, regressor.predict(X_test))))\n",
    "    return np.array(accuracy)"
   ]
  },
  {
   "cell_type": "code",
   "execution_count": 60,
   "metadata": {},
   "outputs": [
    {
     "data": {
      "text/plain": [
       "201221.0323405717"
      ]
     },
     "execution_count": 60,
     "metadata": {},
     "output_type": "execute_result"
    }
   ],
   "source": [
    "cross_validation(X_train, Y_train, 10).mean()"
   ]
  },
  {
   "cell_type": "code",
   "execution_count": null,
   "metadata": {},
   "outputs": [],
   "source": []
  }
 ],
 "metadata": {
  "kernelspec": {
   "display_name": "Python 3",
   "language": "python",
   "name": "python3"
  },
  "language_info": {
   "codemirror_mode": {
    "name": "ipython",
    "version": 3
   },
   "file_extension": ".py",
   "mimetype": "text/x-python",
   "name": "python",
   "nbconvert_exporter": "python",
   "pygments_lexer": "ipython3",
   "version": "3.7.7"
  }
 },
 "nbformat": 4,
 "nbformat_minor": 4
}
