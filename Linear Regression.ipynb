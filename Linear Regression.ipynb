{
 "cells": [
  {
   "cell_type": "code",
   "execution_count": 1,
   "metadata": {},
   "outputs": [],
   "source": [
    "import pandas as pd\n",
    "import numpy as np\n",
    "from sklearn.metrics import mean_squared_error, r2_score\n",
    "from sklearn.linear_model import LinearRegression"
   ]
  },
  {
   "cell_type": "code",
   "execution_count": 2,
   "metadata": {},
   "outputs": [],
   "source": [
    "data = pd.read_csv('kc_house_data.csv')"
   ]
  },
  {
   "cell_type": "code",
   "execution_count": 3,
   "metadata": {},
   "outputs": [
    {
     "data": {
      "text/plain": [
       "['bedrooms',\n",
       " 'bathrooms',\n",
       " 'sqft_living',\n",
       " 'sqft_lot',\n",
       " 'floors',\n",
       " 'waterfront',\n",
       " 'view',\n",
       " 'condition',\n",
       " 'grade',\n",
       " 'sqft_above',\n",
       " 'sqft_basement',\n",
       " 'yr_built',\n",
       " 'yr_renovated',\n",
       " 'zipcode',\n",
       " 'lat',\n",
       " 'long',\n",
       " 'sqft_living15',\n",
       " 'sqft_lot15']"
      ]
     },
     "execution_count": 3,
     "metadata": {},
     "output_type": "execute_result"
    }
   ],
   "source": [
    "data.head()\n",
    "list(data.columns)[3:]"
   ]
  },
  {
   "cell_type": "code",
   "execution_count": 4,
   "metadata": {},
   "outputs": [],
   "source": [
    "class LinearRegressionS:\n",
    "    def predict(self, X):\n",
    "        return np.dot(X, self.W)\n",
    "    def cost(self, Y_P, Y_T):\n",
    "        return np.sum(np.square(Y_P - Y_T))/(2*Y_T.shape[0])\n",
    "    def fit(self, X, Y, print_cost = False):\n",
    "        self.W = np.linalg.inv(X.transpose().dot(X)).dot(X.transpose()).dot(Y)"
   ]
  },
  {
   "cell_type": "code",
   "execution_count": 5,
   "metadata": {},
   "outputs": [],
   "source": [
    "Y = pd.DataFrame(data['price']).to_numpy(copy = True)"
   ]
  },
  {
   "cell_type": "code",
   "execution_count": 6,
   "metadata": {},
   "outputs": [],
   "source": [
    "temp = pd.DataFrame(data[list(data.columns)[3:]]).to_numpy(copy = True)"
   ]
  },
  {
   "cell_type": "code",
   "execution_count": 7,
   "metadata": {},
   "outputs": [],
   "source": [
    "X = np.ones((temp.shape[0], temp.shape[1] + 1))"
   ]
  },
  {
   "cell_type": "code",
   "execution_count": 8,
   "metadata": {},
   "outputs": [],
   "source": [
    "X[:, 1:] = temp"
   ]
  },
  {
   "cell_type": "code",
   "execution_count": 9,
   "metadata": {},
   "outputs": [],
   "source": [
    "X_train = X[:15000]\n",
    "Y_train = Y[:15000]\n",
    "X_test = X[15000:]\n",
    "Y_test = Y[15000:]"
   ]
  },
  {
   "cell_type": "code",
   "execution_count": 10,
   "metadata": {},
   "outputs": [
    {
     "data": {
      "text/plain": [
       "LinearRegression(copy_X=True, fit_intercept=True, n_jobs=None, normalize=False)"
      ]
     },
     "execution_count": 10,
     "metadata": {},
     "output_type": "execute_result"
    }
   ],
   "source": [
    "# Copied just to check\n",
    "\n",
    "linreg = LinearRegression()\n",
    "linreg.fit(temp[:15000], Y_train)"
   ]
  },
  {
   "cell_type": "code",
   "execution_count": 11,
   "metadata": {},
   "outputs": [],
   "source": [
    "mse = mean_squared_error(Y_test, linreg.predict(temp[15000:]))"
   ]
  },
  {
   "cell_type": "code",
   "execution_count": 12,
   "metadata": {},
   "outputs": [
    {
     "data": {
      "text/plain": [
       "203639.42220699383"
      ]
     },
     "execution_count": 12,
     "metadata": {},
     "output_type": "execute_result"
    }
   ],
   "source": [
    "np.sqrt(mse)"
   ]
  },
  {
   "cell_type": "code",
   "execution_count": 13,
   "metadata": {},
   "outputs": [
    {
     "data": {
      "text/plain": [
       "array([[-3.75161333e+04,  3.96146160e+04,  1.13616150e+02,\n",
       "         1.58664424e-01, -1.83870782e+03,  6.39890324e+05,\n",
       "         4.91046529e+04,  2.56784236e+04,  8.96888763e+04,\n",
       "         7.59909601e+01,  3.76251901e+01, -2.93882602e+03,\n",
       "         2.11547051e+01, -5.72233981e+02,  5.76461175e+05,\n",
       "        -1.82812408e+05,  3.19022425e+01, -4.56266875e-01]])"
      ]
     },
     "execution_count": 13,
     "metadata": {},
     "output_type": "execute_result"
    }
   ],
   "source": [
    "linreg.coef_"
   ]
  },
  {
   "cell_type": "code",
   "execution_count": 14,
   "metadata": {},
   "outputs": [
    {
     "data": {
      "text/plain": [
       "{'copy_X': True, 'fit_intercept': True, 'n_jobs': None, 'normalize': False}"
      ]
     },
     "execution_count": 14,
     "metadata": {},
     "output_type": "execute_result"
    }
   ],
   "source": [
    "linreg.get_params()"
   ]
  },
  {
   "cell_type": "code",
   "execution_count": 15,
   "metadata": {},
   "outputs": [],
   "source": [
    "ls = LinearRegressionS()\n",
    "ls.fit(X_train, Y_train, print_cost = False)"
   ]
  },
  {
   "cell_type": "code",
   "execution_count": 16,
   "metadata": {},
   "outputs": [
    {
     "data": {
      "text/plain": [
       "(21613, 19)"
      ]
     },
     "execution_count": 16,
     "metadata": {},
     "output_type": "execute_result"
    }
   ],
   "source": [
    "X.shape"
   ]
  },
  {
   "cell_type": "code",
   "execution_count": 17,
   "metadata": {},
   "outputs": [
    {
     "data": {
      "text/plain": [
       "2918730.1090985616"
      ]
     },
     "execution_count": 17,
     "metadata": {},
     "output_type": "execute_result"
    }
   ],
   "source": [
    "np.sqrt(mean_squared_error(Y_test, ls.predict(X_test)))"
   ]
  },
  {
   "cell_type": "code",
   "execution_count": 18,
   "metadata": {},
   "outputs": [
    {
     "data": {
      "text/plain": [
       "-61.913180841927826"
      ]
     },
     "execution_count": 18,
     "metadata": {},
     "output_type": "execute_result"
    }
   ],
   "source": [
    "r2_score(Y_test, ls.predict(X_test))"
   ]
  },
  {
   "cell_type": "code",
   "execution_count": 19,
   "metadata": {},
   "outputs": [
    {
     "data": {
      "text/plain": [
       "array([[ 5.92392481e+06],\n",
       "       [ 3.01892510e+06],\n",
       "       [-3.61208438e+06],\n",
       "       [-3.07212907e+04],\n",
       "       [ 4.16504983e-01],\n",
       "       [ 7.95419957e+05],\n",
       "       [ 3.03267590e+06],\n",
       "       [-4.18168715e+04],\n",
       "       [ 4.04502438e+04],\n",
       "       [ 1.46903749e+05],\n",
       "       [ 3.17577874e+04],\n",
       "       [ 3.17836286e+04],\n",
       "       [-2.93882602e+03],\n",
       "       [ 2.11547051e+01],\n",
       "       [-5.72233980e+02],\n",
       "       [ 5.76461175e+05],\n",
       "       [-1.82812408e+05],\n",
       "       [ 3.19022425e+01],\n",
       "       [-4.56266875e-01]])"
      ]
     },
     "execution_count": 19,
     "metadata": {},
     "output_type": "execute_result"
    }
   ],
   "source": [
    "ls.W"
   ]
  },
  {
   "cell_type": "code",
   "execution_count": 20,
   "metadata": {},
   "outputs": [],
   "source": [
    "class LinearRegressionSGD:\n",
    "    def __init__(self, learning_rate = 1e-4, num_iterations = 1500):\n",
    "        self.alpha = learning_rate\n",
    "        self.n = num_iterations\n",
    "    def init_parameters(self):\n",
    "        self.W = np.zeros((self.n_x, 1))\n",
    "    def predict(self, X):\n",
    "        return np.dot(X, self.W)\n",
    "    def cost(self, Y_P, Y_T):\n",
    "        return np.sum(np.square(Y_P - Y_T))/(2*self.m)\n",
    "    def gradient_step(self, X, Y):\n",
    "        Y_P = self.predict(X)\n",
    "        self.dW = np.dot(X.T,(Y_P - Y))/self.m\n",
    "        self.W = self.W - self.alpha*self.dW\n",
    "    def fit(self, X, Y, print_cost = False):\n",
    "        self.n_x = X.shape[1]\n",
    "        self.m = X.shape[0]\n",
    "        self.init_parameters()\n",
    "        for i in range(self.n):\n",
    "            self.gradient_step(X, Y)\n",
    "            if print_cost and i%100 == 0:\n",
    "                print(self.cost(self.predict(X), Y))"
   ]
  },
  {
   "cell_type": "code",
   "execution_count": 21,
   "metadata": {},
   "outputs": [
    {
     "name": "stdout",
     "output_type": "stream",
     "text": [
      "66823083144.139824\n",
      "65435262495.40102\n",
      "64434672488.52414\n",
      "63465609583.07572\n",
      "62527067059.28024\n",
      "61618077438.03944\n",
      "60737703959.09513\n",
      "59885039587.66988\n",
      "59059206070.99302\n",
      "58259353024.8183\n",
      "57484657048.93453\n",
      "56734320870.74906\n",
      "56007572516.053055\n",
      "55303664506.10586\n",
      "54621873080.20303\n",
      "53961497442.919334\n",
      "53321859035.24333\n",
      "52702300828.84559\n",
      "52102186642.7459\n",
      "51520900481.66884\n",
      "50957845895.39921\n",
      "50412445358.47083\n",
      "49884139669.54336\n",
      "49372387369.84223\n",
      "48876664180.05663\n",
      "48396462455.10982\n",
      "47931290656.23425\n",
      "47480672839.80263\n",
      "47044148162.38276\n",
      "46621270401.50142\n",
      "46211607491.61869\n",
      "45814741074.82983\n",
      "45430266065.82737\n",
      "45057790230.67088\n",
      "44696933778.92596\n",
      "44347328968.74829\n",
      "44008619724.5019\n",
      "43680461266.5136\n",
      "43362519752.57878\n",
      "43054471930.845116\n",
      "42756004803.71351\n",
      "42466815302.40623\n",
      "42186609971.863914\n",
      "41915104665.64361\n",
      "41652024250.5001\n",
      "41397102320.3437\n",
      "41150080919.27652\n",
      "40910710273.419075\n",
      "40678748531.24859\n",
      "40453961512.17837\n",
      "40236122463.11702\n",
      "40025011822.75414\n",
      "39820416993.32723\n",
      "39622132119.632286\n",
      "39429957875.048416\n",
      "39243701254.3536\n",
      "39063175373.116264\n",
      "38888199273.45372\n",
      "38718597735.95568\n",
      "38554201097.5769\n",
      "38394845075.30963\n",
      "38240370595.45253\n",
      "38090623628.298164\n",
      "37945455028.06725\n",
      "37804720377.92326\n",
      "37668279839.90585\n",
      "37535998009.62714\n",
      "37407743775.579735\n",
      "37283390182.91012\n",
      "37162814301.51543\n",
      "37045897098.32679\n",
      "36932523313.64603\n",
      "36822581341.40723\n",
      "36715963113.23862\n",
      "36612563986.204\n",
      "36512282634.10713\n",
      "36415020942.24583\n",
      "36320683905.50636\n",
      "36229179529.692154\n",
      "36140418735.98405\n",
      "36054315268.4328\n",
      "35970785604.38759\n",
      "35889748867.76728\n",
      "35811126745.08432\n",
      "35734843404.13369\n",
      "35660825415.26271\n",
      "35589001675.13933\n",
      "35519303332.93991\n",
      "35451663718.87966\n",
      "35386018275.01127\n",
      "35322304488.219795\n",
      "35260461825.344215\n",
      "35200431670.357925\n",
      "35142157263.543\n",
      "35085583642.59494\n",
      "35030657585.5965\n",
      "34977327555.8014\n",
      "34925543648.170456\n",
      "34875257537.60443\n",
      "34826422428.819885\n"
     ]
    }
   ],
   "source": [
    "lsgd = LinearRegressionSGD(learning_rate = 1e-10, num_iterations = 10000)\n",
    "lsgd.fit(X_train, Y_train, print_cost = True)"
   ]
  },
  {
   "cell_type": "code",
   "execution_count": 22,
   "metadata": {},
   "outputs": [
    {
     "data": {
      "text/plain": [
       "0.4723717589195736"
      ]
     },
     "execution_count": 22,
     "metadata": {},
     "output_type": "execute_result"
    }
   ],
   "source": [
    "r2_score(Y_test, lsgd.predict(X_test))"
   ]
  },
  {
   "cell_type": "code",
   "execution_count": null,
   "metadata": {},
   "outputs": [],
   "source": []
  }
 ],
 "metadata": {
  "kernelspec": {
   "display_name": "Python 3",
   "language": "python",
   "name": "python3"
  },
  "language_info": {
   "codemirror_mode": {
    "name": "ipython",
    "version": 3
   },
   "file_extension": ".py",
   "mimetype": "text/x-python",
   "name": "python",
   "nbconvert_exporter": "python",
   "pygments_lexer": "ipython3",
   "version": "3.7.7"
  }
 },
 "nbformat": 4,
 "nbformat_minor": 4
}
